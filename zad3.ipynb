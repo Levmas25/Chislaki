{
 "cells": [
  {
   "cell_type": "markdown",
   "metadata": {},
   "source": [
    "## Приведя к диагональному виду получим\n",
    "\n",
    "![Zad3](img/zad3_diag.png)"
   ]
  },
  {
   "cell_type": "code",
   "execution_count": 1,
   "metadata": {},
   "outputs": [],
   "source": [
    "import numpy as np"
   ]
  },
  {
   "cell_type": "code",
   "execution_count": 2,
   "metadata": {},
   "outputs": [],
   "source": [
    "# Simple iteration\n",
    "x1 = lambda x2, x3: (12 - x2 - 2*x3) / 5\n",
    "x2 = lambda x1, x3: (3 - x1 - x3) / 4\n",
    "x3 = lambda x1, x2: (10 - 2*x1 - x2) / 6\n",
    "e = 10**-4"
   ]
  },
  {
   "cell_type": "code",
   "execution_count": 3,
   "metadata": {},
   "outputs": [],
   "source": [
    "def simple_iteration():\n",
    "\n",
    "    x = np.array([0, 0, 1])\n",
    "    x_new = np.array([(2 + 5*x[1] + 2*x[2]) / 2, (-3 + 3*x[2])*2 / 7, 1])\n",
    "                     \n",
    "    while any(abs(x[i] - x_new[i]) for i in range(3)) > e:\n",
    "\n",
    "        x = x_new\n",
    "\n",
    "        x_new[0] = (2 + 5*x[1] + 2*x[2]) / 2\n",
    "        x_new[1] = (-3 + 3*x[2])*2 / 7\n",
    "        x_new[2] = 1\n",
    "\n",
    "    return x\n"
   ]
  },
  {
   "cell_type": "code",
   "execution_count": 4,
   "metadata": {},
   "outputs": [
    {
     "data": {
      "text/plain": [
       "array([2., 0., 1.])"
      ]
     },
     "execution_count": 4,
     "metadata": {},
     "output_type": "execute_result"
    }
   ],
   "source": [
    "simple_iteration()"
   ]
  },
  {
   "cell_type": "code",
   "execution_count": 5,
   "metadata": {},
   "outputs": [],
   "source": [
    "def zeidel_iteration():\n",
    "\n",
    "    x = np.array([0, 0, 1])\n",
    "    x_new = np.array([(2 + 5*x[1] + 2*x[2]) / 2, (-3 + 3*x[2])*2 / 7, 1])\n",
    "                     \n",
    "    while any(abs(x[i] - x_new[i]) for i in range(3)) > e:\n",
    "\n",
    "        x = x_new\n",
    "\n",
    "        x_new[2] = 1\n",
    "        x_new[1] = (-3 + 3*x_new[2])*2 / 7\n",
    "        x_new[0] = (2 + 5*x_new[1] + 2*x_new[2]) / 2\n",
    "        \n",
    "\n",
    "    return x"
   ]
  },
  {
   "cell_type": "code",
   "execution_count": 6,
   "metadata": {},
   "outputs": [
    {
     "data": {
      "text/plain": [
       "array([2., 0., 1.])"
      ]
     },
     "execution_count": 6,
     "metadata": {},
     "output_type": "execute_result"
    }
   ],
   "source": [
    "zeidel_iteration()"
   ]
  }
 ],
 "metadata": {
  "kernelspec": {
   "display_name": "venv",
   "language": "python",
   "name": "python3"
  },
  "language_info": {
   "codemirror_mode": {
    "name": "ipython",
    "version": 3
   },
   "file_extension": ".py",
   "mimetype": "text/x-python",
   "name": "python",
   "nbconvert_exporter": "python",
   "pygments_lexer": "ipython3",
   "version": "3.12.5"
  }
 },
 "nbformat": 4,
 "nbformat_minor": 2
}
