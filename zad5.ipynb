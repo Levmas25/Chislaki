{
 "cells": [
  {
   "cell_type": "markdown",
   "id": "da89f35d",
   "metadata": {},
   "source": [
    "![zad5](img/zad5.png)"
   ]
  },
  {
   "cell_type": "code",
   "execution_count": 1,
   "id": "4eed7252",
   "metadata": {},
   "outputs": [],
   "source": [
    "import numpy as np\n",
    "from matplotlib import pyplot as plt"
   ]
  },
  {
   "cell_type": "code",
   "execution_count": 2,
   "id": "0def4e5c",
   "metadata": {},
   "outputs": [],
   "source": [
    "b = np.array(\n",
    "    [\n",
    "        0,\n",
    "        -8,\n",
    "        -5,\n",
    "        1,\n",
    "        -4\n",
    "    ], float\n",
    ")\n",
    "\n",
    "c = np.array(\n",
    "    [\n",
    "        14,\n",
    "        14,\n",
    "        -17,\n",
    "        5,\n",
    "        -10\n",
    "    ], float\n",
    ")\n",
    "\n",
    "d = np.array(\n",
    "    [\n",
    "        9,\n",
    "        6,\n",
    "        8,\n",
    "        -2,\n",
    "        0\n",
    "    ], float\n",
    ")\n",
    "\n",
    "r = np.array(\n",
    "    [\n",
    "        125,\n",
    "        -56,\n",
    "        144,\n",
    "        36,\n",
    "        70\n",
    "    ], float\n",
    ")"
   ]
  },
  {
   "cell_type": "code",
   "execution_count": 3,
   "id": "eb789432",
   "metadata": {},
   "outputs": [],
   "source": [
    "q = np.array(\n",
    "    [\n",
    "        0,\n",
    "        0,\n",
    "        0,\n",
    "        0,\n",
    "        0,\n",
    "    ], float\n",
    ")\n",
    "\n",
    "lam = np.array(\n",
    "    [\n",
    "        0,\n",
    "        0,\n",
    "        0, \n",
    "        0,\n",
    "        0,\n",
    "    ], float\n",
    ")\n",
    "\n",
    "delta = np.array(\n",
    "    [\n",
    "        0,\n",
    "        0,\n",
    "        0,\n",
    "        0,\n",
    "        0,\n",
    "    ], float\n",
    ")\n"
   ]
  },
  {
   "cell_type": "code",
   "execution_count": 4,
   "id": "7ff2f3df",
   "metadata": {},
   "outputs": [
    {
     "name": "stdout",
     "output_type": "stream",
     "text": [
      "[-0.64285714 -0.31343284  0.51837524  0.36242552  0.        ]\n",
      "[ 8.92857143  0.80597015 -9.59187621  8.26182965 -9.        ]\n",
      "[ 14.          19.14285714 -15.43283582   5.51837524 -11.44970207]\n"
     ]
    }
   ],
   "source": [
    "for i in range(5):\n",
    "\n",
    "    delta[i] = c[i] + b[i]*(0 if i == 0 else q[i - 1])\n",
    "\n",
    "    q[i] = -d[i]/delta[i]\n",
    "\n",
    "    lam[i] = (r[i] - b[i]*(0 if i == 0 else lam[i - 1]))/delta[i]\n",
    "    \n",
    "print(q, lam, delta, sep='\\n')"
   ]
  },
  {
   "cell_type": "code",
   "execution_count": 5,
   "id": "6a977f9b",
   "metadata": {},
   "outputs": [],
   "source": [
    "x = [\n",
    "    0,\n",
    "    0,\n",
    "    0,\n",
    "    0,\n",
    "    0,\n",
    "    0\n",
    "]"
   ]
  },
  {
   "cell_type": "code",
   "execution_count": 6,
   "id": "fe5a3493",
   "metadata": {},
   "outputs": [
    {
     "name": "stdout",
     "output_type": "stream",
     "text": [
      "7.0 3.0 -6.999999999999999 5.000000000000001 -9.0\n"
     ]
    }
   ],
   "source": [
    "for i in range(4, -1, -1):\n",
    "\n",
    "    x[i] = q[i]*x[i + 1] + lam[i]\n",
    "\n",
    "print(*x[:-1])"
   ]
  },
  {
   "cell_type": "code",
   "execution_count": 7,
   "id": "90ee94db",
   "metadata": {},
   "outputs": [
    {
     "name": "stdout",
     "output_type": "stream",
     "text": [
      "Solution using np.linalg.solve:\n",
      "[ 7.  3. -7.  5. -9.]\n"
     ]
    }
   ],
   "source": [
    "A = np.array([\n",
    "    [c[0], d[0],    0,    0,    0],\n",
    "    [b[1], c[1], d[1],    0,    0],\n",
    "    [   0, b[2], c[2], d[2],    0],\n",
    "    [   0,    0, b[3], c[3], d[3]],\n",
    "    [   0,    0,    0, b[4], c[4]]\n",
    "], dtype=float)\n",
    "\n",
    "# Solve the system A*x = r\n",
    "x_solve = np.linalg.solve(A, r)\n",
    "print(\"Solution using np.linalg.solve:\")\n",
    "print(x_solve)"
   ]
  }
 ],
 "metadata": {
  "kernelspec": {
   "display_name": "venv",
   "language": "python",
   "name": "python3"
  },
  "language_info": {
   "codemirror_mode": {
    "name": "ipython",
    "version": 3
   },
   "file_extension": ".py",
   "mimetype": "text/x-python",
   "name": "python",
   "nbconvert_exporter": "python",
   "pygments_lexer": "ipython3",
   "version": "3.12.5"
  }
 },
 "nbformat": 4,
 "nbformat_minor": 5
}
