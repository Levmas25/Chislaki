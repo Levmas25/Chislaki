{
 "cells": [
  {
   "cell_type": "markdown",
   "id": "620c895b",
   "metadata": {},
   "source": [
    "![zad8](img/zad8.png)"
   ]
  },
  {
   "cell_type": "code",
   "execution_count": 10,
   "id": "c3ff53e3",
   "metadata": {},
   "outputs": [],
   "source": [
    "import numpy as np\n",
    "from matplotlib import pyplot as plt\n",
    "import pandas as pd\n",
    "import scipy"
   ]
  },
  {
   "cell_type": "code",
   "execution_count": 28,
   "id": "e2f2c9cb",
   "metadata": {},
   "outputs": [
    {
     "data": {
      "text/plain": [
       "0.24914207909408878"
      ]
     },
     "execution_count": 28,
     "metadata": {},
     "output_type": "execute_result"
    }
   ],
   "source": [
    "a = 1.4\n",
    "b = 2.1\n",
    "integral = lambda x: 1/np.sqrt(3*x**2 - 1)\n",
    "e = 10**-4\n",
    "\n",
    "I_true = scipy.integrate.quad(integral, a, b)[0]\n",
    "I_true"
   ]
  },
  {
   "cell_type": "markdown",
   "id": "8b7eb6fb",
   "metadata": {},
   "source": [
    "# Trapezoid Rule"
   ]
  },
  {
   "cell_type": "code",
   "execution_count": 27,
   "id": "325d5526",
   "metadata": {},
   "outputs": [
    {
     "name": "stdout",
     "output_type": "stream",
     "text": [
      "0.727649732621357\n"
     ]
    },
    {
     "data": {
      "text/plain": [
       "np.float64(0.04853783667370095)"
      ]
     },
     "execution_count": 27,
     "metadata": {},
     "output_type": "execute_result"
    }
   ],
   "source": [
    "der2 = lambda x: (18*x**2 + 3)/np.sqrt(3*x**2 - 1)**5\n",
    "\n",
    "m = max(der2(np.linspace(a, b, 100)))\n",
    "print(m)\n",
    "h = np.sqrt((12*e) / (m * (b - a)))\n",
    "h"
   ]
  },
  {
   "cell_type": "code",
   "execution_count": 38,
   "id": "56ad043b",
   "metadata": {},
   "outputs": [
    {
     "data": {
      "text/plain": [
       "np.float64(0.24924095516244027)"
      ]
     },
     "execution_count": 38,
     "metadata": {},
     "output_type": "execute_result"
    }
   ],
   "source": [
    "I = 0\n",
    "n = 2\n",
    "\n",
    "while abs(I - I_true) > e:\n",
    "    h = (b - a) / (n - 1)\n",
    "    x = np.linspace(a, b, n)\n",
    "    y = integral(x)\n",
    "\n",
    "    I = h*(0.5*(y[0]+y[n - 1]) + sum(y[1:-1]))\n",
    "    n += 1\n",
    "\n",
    "I"
   ]
  },
  {
   "cell_type": "code",
   "execution_count": 14,
   "id": "5d98c5c7",
   "metadata": {},
   "outputs": [
    {
     "data": {
      "text/plain": [
       "np.float64(9.89e-05)"
      ]
     },
     "execution_count": 14,
     "metadata": {},
     "output_type": "execute_result"
    }
   ],
   "source": [
    "error = round(abs(I_true - I), 7)\n",
    "error"
   ]
  },
  {
   "cell_type": "markdown",
   "id": "d17b7d23",
   "metadata": {},
   "source": [
    "# Rectangle Formula"
   ]
  },
  {
   "cell_type": "code",
   "execution_count": 15,
   "id": "bf410b0e",
   "metadata": {},
   "outputs": [
    {
     "data": {
      "text/plain": [
       "np.float64(0.24924189449838013)"
      ]
     },
     "execution_count": 15,
     "metadata": {},
     "output_type": "execute_result"
    }
   ],
   "source": [
    "n = 2\n",
    "I = 0\n",
    "\n",
    "while abs(I - I_true) > e:\n",
    "    h = (b - a) / n\n",
    "    x = np.linspace(a, b, n)\n",
    "    y = integral(x)\n",
    "\n",
    "    I = sum(y)*h\n",
    "    n += 1\n",
    "    \n",
    "I"
   ]
  },
  {
   "cell_type": "code",
   "execution_count": 16,
   "id": "a3bb8f1d",
   "metadata": {},
   "outputs": [
    {
     "data": {
      "text/plain": [
       "np.float64(9.98e-05)"
      ]
     },
     "execution_count": 16,
     "metadata": {},
     "output_type": "execute_result"
    }
   ],
   "source": [
    "error = round(abs(I_true - I), 7)\n",
    "error"
   ]
  },
  {
   "cell_type": "markdown",
   "id": "32cdbd92",
   "metadata": {},
   "source": [
    "# Simpson's Formula"
   ]
  },
  {
   "cell_type": "code",
   "execution_count": 17,
   "id": "2321c732",
   "metadata": {},
   "outputs": [
    {
     "data": {
      "text/plain": [
       "np.float64(0.2490421211693259)"
      ]
     },
     "execution_count": 17,
     "metadata": {},
     "output_type": "execute_result"
    }
   ],
   "source": [
    "n = 2\n",
    "I = 0\n",
    "\n",
    "while abs(I - I_true) > e:\n",
    "    h = (b - a) / n\n",
    "    x = np.linspace(a, b, n)\n",
    "    y = integral(x)\n",
    "\n",
    "    I = (h/3) * (y[0] + y[-1] + \n",
    "                4 * sum(y[1:-1:2]) +\n",
    "                2 * sum(y[2:-1:2]))\n",
    "    \n",
    "    n += 2\n",
    "\n",
    "I"
   ]
  },
  {
   "cell_type": "code",
   "execution_count": 18,
   "id": "f8acb71c",
   "metadata": {},
   "outputs": [
    {
     "data": {
      "text/plain": [
       "np.float64(0.0001)"
      ]
     },
     "execution_count": 18,
     "metadata": {},
     "output_type": "execute_result"
    }
   ],
   "source": [
    "error = round(abs(I_true - I), 7)\n",
    "error"
   ]
  }
 ],
 "metadata": {
  "kernelspec": {
   "display_name": "venv",
   "language": "python",
   "name": "python3"
  },
  "language_info": {
   "codemirror_mode": {
    "name": "ipython",
    "version": 3
   },
   "file_extension": ".py",
   "mimetype": "text/x-python",
   "name": "python",
   "nbconvert_exporter": "python",
   "pygments_lexer": "ipython3",
   "version": "3.12.5"
  }
 },
 "nbformat": 4,
 "nbformat_minor": 5
}
